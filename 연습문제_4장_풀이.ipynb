{
  "nbformat": 4,
  "nbformat_minor": 0,
  "metadata": {
    "colab": {
      "provenance": [],
      "authorship_tag": "ABX9TyM+f9rhJ4FbWHzc15DdpiTW",
      "include_colab_link": true
    },
    "kernelspec": {
      "name": "python3",
      "display_name": "Python 3"
    },
    "language_info": {
      "name": "python"
    }
  },
  "cells": [
    {
      "cell_type": "markdown",
      "metadata": {
        "id": "view-in-github",
        "colab_type": "text"
      },
      "source": [
        "<a href=\"https://colab.research.google.com/github/changmin9555/22_05_basic_python/blob/main/%EC%97%B0%EC%8A%B5%EB%AC%B8%EC%A0%9C_4%EC%9E%A5_%ED%92%80%EC%9D%B4.ipynb\" target=\"_parent\"><img src=\"https://colab.research.google.com/assets/colab-badge.svg\" alt=\"Open In Colab\"/></a>"
      ]
    },
    {
      "cell_type": "markdown",
      "source": [
        "1 왜 다음과 같은 수식이 오류를 발생시키는가? 올바르게 수정하라\n",
        "’나는' + 12 + '개의 샤과를 먹었다.'"
      ],
      "metadata": {
        "id": "16O1JXVAm8mz"
      }
    },
    {
      "cell_type": "code",
      "source": [
        "print(\"나는\" + str(12) + \"개의 사과를 먹었다\")"
      ],
      "metadata": {
        "colab": {
          "base_uri": "https://localhost:8080/"
        },
        "id": "2kPhvDHyeV0A",
        "outputId": "3481c97a-c073-4e43-94e7-0674ab6bd69b"
      },
      "execution_count": null,
      "outputs": [
        {
          "output_type": "stream",
          "name": "stdout",
          "text": [
            "나는12개의 사과를 먹었다\n"
          ]
        }
      ]
    },
    {
      "cell_type": "markdown",
      "source": [
        "2 다음과 같은 수식을 계산하면 결과는무엇인가?\n",
        "'apple' + 'grape’\n",
        "'appIe’ * 3"
      ],
      "metadata": {
        "id": "dO7VokFedLID"
      }
    },
    {
      "cell_type": "code",
      "source": [
        "print('apple' + 'grape')\n",
        "print('apple' * 3)"
      ],
      "metadata": {
        "colab": {
          "base_uri": "https://localhost:8080/"
        },
        "id": "LCa6281-d0Vw",
        "outputId": "424d3991-40fa-46f2-fcb0-50b4e724851e"
      },
      "execution_count": null,
      "outputs": [
        {
          "output_type": "stream",
          "name": "stdout",
          "text": [
            "applegrape\n",
            "appleappleapple\n"
          ]
        }
      ]
    },
    {
      "cell_type": "markdown",
      "source": [
        "3 다음과 같이 사용자가 입럭한 분자열 중에서 처음 2글자와 마지막 2글자를 추출한 후 에 이들을 합쳐서 출력해보자"
      ],
      "metadata": {
        "id": "gjRlt9SndyUb"
      }
    },
    {
      "cell_type": "code",
      "source": [
        "str = input(\"문자열을 입력하시오: \")\n",
        "s = str[0:2] + str[-2:] \n",
        "\n",
        "print(s)"
      ],
      "metadata": {
        "colab": {
          "base_uri": "https://localhost:8080/"
        },
        "id": "eABYx1MifJJ8",
        "outputId": "00bd293d-0cd4-4f59-c748-5a94d4ab60dc"
      },
      "execution_count": null,
      "outputs": [
        {
          "output_type": "stream",
          "name": "stdout",
          "text": [
            "문자열을 입력하시오: python\n",
            "pyon\n"
          ]
        }
      ]
    },
    {
      "cell_type": "markdown",
      "source": [
        "4 다음과 같이 사용자가 입력한 문자열 뒤에 항상“하는중\"을 붙이는 프로그램을 작셩해 보자."
      ],
      "metadata": {
        "id": "aL_lMDuOd6g4"
      }
    },
    {
      "cell_type": "code",
      "source": [
        "s=input(\"문자열을 입력하시오: \")\n",
        "s += \"하는 중\" \n",
        "print(s)"
      ],
      "metadata": {
        "colab": {
          "base_uri": "https://localhost:8080/"
        },
        "id": "Ah4bhLJ7fxwy",
        "outputId": "58a9d1c3-11e3-43d7-a923-fc88e4df0e73"
      },
      "execution_count": null,
      "outputs": [
        {
          "output_type": "stream",
          "name": "stdout",
          "text": [
            "문자열을 입력하시오: 청소\n",
            "청소하는 중\n"
          ]
        }
      ]
    },
    {
      "cell_type": "markdown",
      "source": [
        "5 사용자가 입럭한 기호 안에 분자열을 삽입하려면 어떻게 해야하는가? 기호는 분자 2개로 이루어있다고 가정한다."
      ],
      "metadata": {
        "id": "hm5o4Ka4d9FA"
      }
    },
    {
      "cell_type": "code",
      "source": [
        "str = input(\"기호를 입력하시오: \") \n",
        "word = input(\"중간에 삽입할 문자열을 입력하시오: \")\n",
        "s = str[:1] + word + str[1:] \n",
        "print(s)"
      ],
      "metadata": {
        "colab": {
          "base_uri": "https://localhost:8080/"
        },
        "id": "DERuOhCPeACg",
        "outputId": "ca89b556-af0c-487f-9b17-839c0adebc69"
      },
      "execution_count": null,
      "outputs": [
        {
          "output_type": "stream",
          "name": "stdout",
          "text": [
            "기호를 입력하시오: 집요\n",
            "중간에 삽입할 문자열을 입력하시오: 가고싶어\n",
            "집가고싶어요\n"
          ]
        }
      ]
    },
    {
      "cell_type": "markdown",
      "source": [
        "6 4개의 숫자가 들어 있는 러스트가 있다. 러스트 안의 숫자들을 꺼내서 합계를 계산하여 \n",
        "츨럭하는 프로그렘을 작성하라 반복문은 사용하지 않는다 러스트의 길이는 항상 4라고 가정한다."
      ],
      "metadata": {
        "id": "GP3oQdRNeBAR"
      }
    },
    {
      "cell_type": "code",
      "source": [
        "lista = [1, 2, 3, 4] \n",
        "sum = 0 \n",
        "sum = lista[0] + lista[1] + lista[2] + lista[3]\n",
        "print(\"리스트 = \", lista) \n",
        "print(\"리스트 숫자들의 합 = \", sum)"
      ],
      "metadata": {
        "colab": {
          "base_uri": "https://localhost:8080/"
        },
        "id": "gjpVEloshS5J",
        "outputId": "2ee953ca-f92c-4a78-e784-96b47ebd26e4"
      },
      "execution_count": null,
      "outputs": [
        {
          "output_type": "stream",
          "name": "stdout",
          "text": [
            "리스트 =  [1, 2, 3, 4]\n",
            "리스트 숫자들의 합 =  10\n"
          ]
        }
      ]
    },
    {
      "cell_type": "markdown",
      "source": [
        "7 사용지가 업럭하는3가지 색상을리스트에 저장하였다가하나씩 꺼내서 그색상으로채 \n",
        "워진 원을 그러는 프로그렘을 작성해보자 반복분은 사용하지 않는다 채워진 원을 그러 려면 다옴와 같은 문장들을 사용한다 \n",
        "t.fiⅡcoIor(¨yeⅡowIl)     # 채워지는 색샹을 지정한다. \n",
        "t.beginjil10         # 채우기를 시작한다. \n",
        "t.circIe(50)          # 채워진 원을 그린다. \n",
        "t.end_fiⅡ0          # 채우기를 종료한다."
      ],
      "metadata": {
        "id": "a2BFtEqueEkJ"
      }
    },
    {
      "cell_type": "code",
      "source": [
        "import turtle\n",
        "t = turtle.Turtle()\n",
        "t.shape(\"turtle\")\n",
        "\n",
        "lista = [ ]\n",
        "color = input(\"색상 #1을 입력하시오: \")\n",
        "lista.append(color)\n",
        "color = input(\"색상 #2을 입력하시오: \")\n",
        "lista.append(color)\n",
        "color = input(\"색상 #3을 입력하시오: \")\n",
        "lista.append(color)\n",
        "\n",
        "t.fillcolor(lista[0])\n",
        "t.begin_fill()\n",
        "t.circle(50)\n",
        "t.end_fill()\n",
        "\n",
        "t.up()\n",
        "t.goto(100, 0)\n",
        "t.down()\n",
        "t.fillcolor(lista[1])\n",
        "t.begin_fill()\n",
        "t.circle(50)\n",
        "t.end_fill()\n",
        "\n",
        "t.up()\n",
        "t.goto(200, 0)\n",
        "t.down() \n",
        "t.fillcolor(lista[2]) \n",
        "t.begin_fill() \n",
        "t.circle(50) \n",
        "t.end_fill() \n",
        "t._screen.exitonclick()\n"
      ],
      "metadata": {
        "id": "wETi-jzfiSma"
      },
      "execution_count": null,
      "outputs": []
    },
    {
      "cell_type": "markdown",
      "source": [
        "8 사용자가 입럭하는3개의 좌표(x, y)를러스트에 저장한다 이들좌표를꺼내서 거븍이 를 이동하는 프로그랩을 작성해보자"
      ],
      "metadata": {
        "id": "g4cJqrKdiTJZ"
      }
    },
    {
      "cell_type": "code",
      "source": [
        "import turtle \n",
        "t = turtle.Turtle() \n",
        "t.shape(\"turtle\") \n",
        "lista = [ ]\n",
        "lista.append(int(input(\"x1: \")))\n",
        "lista.append(int(input(\"y1: \"))) \n",
        "lista.append(int(input(\"x2: \"))) \n",
        "lista.append(int(input(\"y2: \"))) \n",
        "lista.append(int(input(\"x3: \"))) \n",
        "lista.append(int(input(\"y3: \"))) \n",
        "t.goto(lista[0], lista[1]) \n",
        "t.goto(lista[2], lista[3]) \n",
        "t.goto(lista[4], lista[5]) \n",
        "t._screen.exitonclick()"
      ],
      "metadata": {
        "id": "EL2xOsLTibMz"
      },
      "execution_count": null,
      "outputs": []
    }
  ]
}