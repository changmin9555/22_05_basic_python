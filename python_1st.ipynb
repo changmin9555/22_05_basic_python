{
  "nbformat": 4,
  "nbformat_minor": 0,
  "metadata": {
    "colab": {
      "provenance": [],
      "authorship_tag": "ABX9TyMYX+zrdAHx6YaTgWax58Hd",
      "include_colab_link": true
    },
    "kernelspec": {
      "name": "python3",
      "display_name": "Python 3"
    },
    "language_info": {
      "name": "python"
    }
  },
  "cells": [
    {
      "cell_type": "markdown",
      "metadata": {
        "id": "view-in-github",
        "colab_type": "text"
      },
      "source": [
        "<a href=\"https://colab.research.google.com/github/changmin9555/22_05_basic_python/blob/main/python_1st.ipynb\" target=\"_parent\"><img src=\"https://colab.research.google.com/assets/colab-badge.svg\" alt=\"Open In Colab\"/></a>"
      ]
    },
    {
      "cell_type": "markdown",
      "source": [
        "1. 안녕하세요.를 화면에 출력해보자."
      ],
      "metadata": {
        "id": "EgKbeo1yZIW7"
      }
    },
    {
      "cell_type": "code",
      "source": [
        "print(\"안녕하세요.\")"
      ],
      "metadata": {
        "colab": {
          "base_uri": "https://localhost:8080/"
        },
        "id": "TGxHktIDZSxk",
        "outputId": "8664f601-416f-449f-ebbf-0356237ae954"
      },
      "execution_count": 4,
      "outputs": [
        {
          "output_type": "stream",
          "name": "stdout",
          "text": [
            "안녕하세요.\n"
          ]
        }
      ]
    },
    {
      "cell_type": "markdown",
      "source": [
        "programming에 입문하신것을 축하드립니다.를 출력하시오,"
      ],
      "metadata": {
        "id": "3JvuF423Z-nv"
      }
    },
    {
      "cell_type": "code",
      "source": [
        "print(\"programming에 입문하신것을 푹하드립니다.\")"
      ],
      "metadata": {
        "colab": {
          "base_uri": "https://localhost:8080/"
        },
        "id": "Kk4NkOt4aQND",
        "outputId": "5c4ef481-f6c2-49bd-c99e-a379066dd133"
      },
      "execution_count": 5,
      "outputs": [
        {
          "output_type": "stream",
          "name": "stdout",
          "text": [
            "programming에 입문하신것을 푹하드립니다.\n"
          ]
        }
      ]
    }
  ]
}