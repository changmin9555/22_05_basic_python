{
  "nbformat": 4,
  "nbformat_minor": 0,
  "metadata": {
    "colab": {
      "provenance": [],
      "authorship_tag": "ABX9TyPBv5lxAQKpi/zwVKwCoy1b",
      "include_colab_link": true
    },
    "kernelspec": {
      "name": "python3",
      "display_name": "Python 3"
    },
    "language_info": {
      "name": "python"
    }
  },
  "cells": [
    {
      "cell_type": "markdown",
      "metadata": {
        "id": "view-in-github",
        "colab_type": "text"
      },
      "source": [
        "<a href=\"https://colab.research.google.com/github/changmin9555/22_05_basic_python/blob/main/Untitled1.ipynb\" target=\"_parent\"><img src=\"https://colab.research.google.com/assets/colab-badge.svg\" alt=\"Open In Colab\"/></a>"
      ]
    },
    {
      "cell_type": "code",
      "execution_count": 1,
      "metadata": {
        "colab": {
          "base_uri": "https://localhost:8080/"
        },
        "id": "t8nwlQ6tPIPT",
        "outputId": "c9593a41-2b67-4a1b-fca1-7f6acacf06bf"
      },
      "outputs": [
        {
          "output_type": "stream",
          "name": "stdout",
          "text": [
            "x = 10\n",
            "x = (3, 14)\n",
            "x = hello world\n"
          ]
        }
      ],
      "source": [
        "x = 10\n",
        "print(\"x =\",x)\n",
        "x = 3,14\n",
        "print(\"x =\",x)\n",
        "x = \"hello world\"\n",
        "print(\"x =\",x)\n"
      ]
    },
    {
      "cell_type": "code",
      "source": [
        "x = input(\"정수를 입력하시오:\")\n",
        "y = input(\"정수를 입력하시오:\")\n",
        "print(x+y)"
      ],
      "metadata": {
        "colab": {
          "base_uri": "https://localhost:8080/"
        },
        "id": "ovc9rg9ZSrL9",
        "outputId": "78696c34-9aaf-48be-d6e9-dcf2d6971901"
      },
      "execution_count": 2,
      "outputs": [
        {
          "output_type": "stream",
          "name": "stdout",
          "text": [
            "정수를 입력하시오:100\n",
            "정수를 입력하시오:200\n",
            "100200\n"
          ]
        }
      ]
    },
    {
      "cell_type": "code",
      "source": [
        "x = int(input(\"정수를 입력하시오:\"))\n",
        "y = int(input(\"정수를 입력하시오:\"))\n",
        "print(x+y)"
      ],
      "metadata": {
        "colab": {
          "base_uri": "https://localhost:8080/"
        },
        "id": "PISJAcRNTgEq",
        "outputId": "5de2c331-fffb-44d4-aa8f-19ddaf73d24c"
      },
      "execution_count": 3,
      "outputs": [
        {
          "output_type": "stream",
          "name": "stdout",
          "text": [
            "정수를 입력하시오:100\n",
            "정수를 입력하시오:200\n",
            "300\n"
          ]
        }
      ]
    },
    {
      "cell_type": "code",
      "source": [
        "t = input(\"정수를 입력하시오:\")\n",
        "x = int(t)\n",
        "\n",
        "t = input(\"정수를 입력하시오:\")\n",
        "y = int(t)\n",
        "\n",
        "print(x+y)"
      ],
      "metadata": {
        "colab": {
          "base_uri": "https://localhost:8080/"
        },
        "id": "jNAQQQbmUi7U",
        "outputId": "a73a5b63-12ad-4f60-f6cf-2558c8f1597a"
      },
      "execution_count": 4,
      "outputs": [
        {
          "output_type": "stream",
          "name": "stdout",
          "text": [
            "정수를 입력하시오:100\n",
            "정수를 입력하시오:200\n",
            "300\n"
          ]
        }
      ]
    },
    {
      "cell_type": "markdown",
      "source": [
        "# 새 섹션"
      ],
      "metadata": {
        "id": "7jjpEg64QaSO"
      }
    }
  ]
}